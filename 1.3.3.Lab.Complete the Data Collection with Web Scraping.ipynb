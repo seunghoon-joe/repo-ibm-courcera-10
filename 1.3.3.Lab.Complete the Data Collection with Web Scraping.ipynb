{
 "cells": [
  {
   "cell_type": "markdown",
   "metadata": {},
   "source": [
    "<p style=\"text-align:center\">\n",
    "    <a href=\"https://skills.network\" target=\"_blank\">\n",
    "    <img src=\"https://cf-courses-data.s3.us.cloud-object-storage.appdomain.cloud/assets/logos/SN_web_lightmode.png\" width=\"200\" alt=\"Skills Network Logo\">\n",
    "    </a>\n",
    "</p>\n"
   ]
  },
  {
   "cell_type": "markdown",
   "metadata": {},
   "source": [
    "# **Space X  Falcon 9 First Stage Landing Prediction**\n"
   ]
  },
  {
   "cell_type": "markdown",
   "metadata": {},
   "source": [
    "## Web scraping Falcon 9 and Falcon Heavy Launches Records from Wikipedia\n"
   ]
  },
  {
   "cell_type": "markdown",
   "metadata": {},
   "source": [
    "Estimated time needed: **40** minutes\n"
   ]
  },
  {
   "cell_type": "markdown",
   "metadata": {},
   "source": [
    "In this lab, you will be performing web scraping to collect Falcon 9 historical launch records from a Wikipedia page titled `List of Falcon 9 and Falcon Heavy launches`\n",
    "\n",
    "https://en.wikipedia.org/wiki/List_of_Falcon_9_and_Falcon_Heavy_launches\n"
   ]
  },
  {
   "cell_type": "markdown",
   "metadata": {},
   "source": [
    "![](https://cf-courses-data.s3.us.cloud-object-storage.appdomain.cloud/IBM-DS0321EN-SkillsNetwork/labs/module_1_L2/images/Falcon9_rocket_family.svg)\n"
   ]
  },
  {
   "cell_type": "markdown",
   "metadata": {},
   "source": [
    "Falcon 9 first stage will land successfully\n"
   ]
  },
  {
   "cell_type": "markdown",
   "metadata": {},
   "source": [
    "![](https://cf-courses-data.s3.us.cloud-object-storage.appdomain.cloud/IBMDeveloperSkillsNetwork-DS0701EN-SkillsNetwork/api/Images/landing_1.gif)\n"
   ]
  },
  {
   "cell_type": "markdown",
   "metadata": {},
   "source": [
    "Several examples of an unsuccessful landing are shown here:\n"
   ]
  },
  {
   "cell_type": "markdown",
   "metadata": {},
   "source": [
    "![](https://cf-courses-data.s3.us.cloud-object-storage.appdomain.cloud/IBMDeveloperSkillsNetwork-DS0701EN-SkillsNetwork/api/Images/crash.gif)\n"
   ]
  },
  {
   "cell_type": "markdown",
   "metadata": {},
   "source": [
    "More specifically, the launch records are stored in a HTML table shown below:\n"
   ]
  },
  {
   "cell_type": "markdown",
   "metadata": {},
   "source": [
    "![](https://cf-courses-data.s3.us.cloud-object-storage.appdomain.cloud/IBM-DS0321EN-SkillsNetwork/labs/module_1_L2/images/falcon9-launches-wiki.png)\n"
   ]
  },
  {
   "cell_type": "markdown",
   "metadata": {},
   "source": [
    "  ## Objectives\n",
    "Web scrap Falcon 9 launch records with `BeautifulSoup`: \n",
    "- Extract a Falcon 9 launch records HTML table from Wikipedia\n",
    "- Parse the table and convert it into a Pandas data frame\n"
   ]
  },
  {
   "cell_type": "markdown",
   "metadata": {},
   "source": [
    "First let's import required packages for this lab\n"
   ]
  },
  {
   "cell_type": "code",
   "execution_count": null,
   "metadata": {},
   "outputs": [],
   "source": [
    "!pip3 install beautifulsoup4\n",
    "!pip3 install requests"
   ]
  },
  {
   "cell_type": "markdown",
   "metadata": {},
   "source": [
    "## Import"
   ]
  },
  {
   "cell_type": "code",
   "execution_count": 1,
   "metadata": {
    "tags": []
   },
   "outputs": [],
   "source": [
    "import sys\n",
    "\n",
    "import requests\n",
    "from bs4 import BeautifulSoup\n",
    "import re\n",
    "import unicodedata\n",
    "import pandas as pd"
   ]
  },
  {
   "cell_type": "markdown",
   "metadata": {},
   "source": [
    "and we will provide some helper functions for you to process web scraped HTML table\n"
   ]
  },
  {
   "cell_type": "code",
   "execution_count": null,
   "metadata": {},
   "outputs": [],
   "source": [
    "# 모르겠다, 시간 없으니 통과."
   ]
  },
  {
   "cell_type": "code",
   "execution_count": 2,
   "metadata": {
    "tags": []
   },
   "outputs": [],
   "source": [
    "def date_time(table_cells):\n",
    "    \"\"\"\n",
    "    This function returns the data and time from the HTML  table cell\n",
    "    Input: the  element of a table data cell extracts extra row\n",
    "    \"\"\"\n",
    "    return [data_time.strip() for data_time in list(table_cells.strings)][0:2]\n",
    "\n",
    "def booster_version(table_cells):\n",
    "    \"\"\"\n",
    "    This function returns the booster version from the HTML  table cell \n",
    "    Input: the  element of a table data cell extracts extra row\n",
    "    \"\"\"\n",
    "    out=''.join([booster_version for i,booster_version in enumerate( table_cells.strings) if i%2==0][0:-1])\n",
    "    return out\n",
    "\n",
    "def landing_status(table_cells):\n",
    "    \"\"\"\n",
    "    This function returns the landing status from the HTML table cell \n",
    "    Input: the  element of a table data cell extracts extra row\n",
    "    \"\"\"\n",
    "    out=[i for i in table_cells.strings][0]\n",
    "    return out\n",
    "\n",
    "\n",
    "def get_mass(table_cells):\n",
    "    mass=unicodedata.normalize(\"NFKD\", table_cells.text).strip()\n",
    "    if mass:\n",
    "        mass.find(\"kg\")\n",
    "        new_mass=mass[0:mass.find(\"kg\")+2]\n",
    "    else:\n",
    "        new_mass=0\n",
    "    return new_mass\n",
    "\n",
    "\n",
    "def extract_column_from_header(row):\n",
    "    \"\"\"\n",
    "    This function returns the landing status from the HTML table cell \n",
    "    Input: the  element of a table data cell extracts extra row\n",
    "    \"\"\"\n",
    "    if (row.br):\n",
    "        row.br.extract()\n",
    "    if row.a:\n",
    "        row.a.extract()\n",
    "    if row.sup:\n",
    "        row.sup.extract()\n",
    "        \n",
    "    colunm_name = ' '.join(row.contents)\n",
    "    \n",
    "    # Filter the digit and empty names\n",
    "    if not(colunm_name.strip().isdigit()):\n",
    "        colunm_name = colunm_name.strip()\n",
    "        return colunm_name    \n"
   ]
  },
  {
   "cell_type": "markdown",
   "metadata": {},
   "source": [
    "To keep the lab tasks consistent, you will be asked to scrape the data from a snapshot of the  `List of Falcon 9 and Falcon Heavy launches` Wikipage updated on\n",
    "`9th June 2021`\n"
   ]
  },
  {
   "cell_type": "code",
   "execution_count": 3,
   "metadata": {
    "tags": []
   },
   "outputs": [],
   "source": [
    "static_url = \"https://en.wikipedia.org/w/index.php?title=List_of_Falcon_9_and_Falcon_Heavy_launches&oldid=1027686922\""
   ]
  },
  {
   "cell_type": "markdown",
   "metadata": {},
   "source": [
    "Next, request the HTML page from the above URL and get a `response` object\n"
   ]
  },
  {
   "cell_type": "markdown",
   "metadata": {},
   "source": [
    "## TASK 1: Request the Falcon9 Launch Wiki page from its URL\n"
   ]
  },
  {
   "cell_type": "markdown",
   "metadata": {},
   "source": [
    "First, let's perform an HTTP GET method to request the Falcon9 Launch HTML page, as an HTTP response.\n"
   ]
  },
  {
   "cell_type": "code",
   "execution_count": 5,
   "metadata": {
    "tags": []
   },
   "outputs": [
    {
     "name": "stdout",
     "output_type": "stream",
     "text": [
      "html content : b'<!DOCTYPE html>\\n<html class=\"client-nojs vector-feature-language-in-header-enabled vector-feature-language-in-main-page-header-disabled vector-feature-sticky-header-disabled vector-feature-page-tools-pinned-disabled vector-feature-toc-pinned-clientpref-1 vector-feature-main-menu-pinned-disabled vect'\n"
     ]
    }
   ],
   "source": [
    "# use requests.get() method with the provided static_url\n",
    "# assign the response to a object\n",
    "\n",
    "response = requests.get( static_url )\n",
    "\n",
    "if response.status_code == 200:\n",
    "    print(f'html content : {response.content[:300]}')\n",
    "else:\n",
    "    print('failed.')"
   ]
  },
  {
   "cell_type": "markdown",
   "metadata": {},
   "source": [
    "Create a `BeautifulSoup` object from the HTML `response`\n"
   ]
  },
  {
   "cell_type": "code",
   "execution_count": 6,
   "metadata": {
    "tags": []
   },
   "outputs": [],
   "source": [
    "# Use BeautifulSoup() to create a BeautifulSoup object from a response text content\n",
    "\n",
    "soup = BeautifulSoup( response.text, 'html.parser')"
   ]
  },
  {
   "cell_type": "code",
   "execution_count": 8,
   "metadata": {
    "tags": []
   },
   "outputs": [
    {
     "data": {
      "text/plain": [
       "bs4.BeautifulSoup"
      ]
     },
     "execution_count": 8,
     "metadata": {},
     "output_type": "execute_result"
    }
   ],
   "source": [
    "# test\n",
    "type( soup )"
   ]
  },
  {
   "cell_type": "markdown",
   "metadata": {},
   "source": [
    "Print the page title to verify if the `BeautifulSoup` object was created properly \n"
   ]
  },
  {
   "cell_type": "code",
   "execution_count": 11,
   "metadata": {
    "tags": []
   },
   "outputs": [
    {
     "name": "stdout",
     "output_type": "stream",
     "text": [
      "page title : <title>List of Falcon 9 and Falcon Heavy launches - Wikipedia</title>\n"
     ]
    }
   ],
   "source": [
    "# Use soup.title attribute\n",
    "\n",
    "print(f'page title : {soup.title}')"
   ]
  },
  {
   "cell_type": "code",
   "execution_count": null,
   "metadata": {},
   "outputs": [],
   "source": []
  },
  {
   "cell_type": "markdown",
   "metadata": {},
   "source": [
    "## TASK 2: Extract all column/variable names from the HTML table header\n"
   ]
  },
  {
   "cell_type": "markdown",
   "metadata": {},
   "source": [
    "Next, we want to collect all relevant column names from the HTML table header\n"
   ]
  },
  {
   "cell_type": "markdown",
   "metadata": {},
   "source": [
    "Let's try to find all tables on the wiki page first. If you need to refresh your memory about `BeautifulSoup`, please check the external reference link towards the end of this lab\n"
   ]
  },
  {
   "cell_type": "markdown",
   "metadata": {},
   "source": [
    "먼저 위키 페이지의 모든 테이블을 찾아보겠습니다. BeautifulSoup에 대한 기억을 되새기려면 이 실습 마지막 부분에 있는 외부 참조 링크를 확인하세요."
   ]
  },
  {
   "cell_type": "code",
   "execution_count": 12,
   "metadata": {
    "tags": []
   },
   "outputs": [],
   "source": [
    "# Use the find_all function in the BeautifulSoup object, with element type `table`\n",
    "# Assign the result to a list called `html_tables`\n",
    "# 요소 유형 `table`을 사용하여 BeautifulSoup 객체에서 find_all 함수를 사용합니다.\n",
    "# `html_tables`라는 목록에 결과를 할당합니다.\n",
    "\n",
    "html_tables = soup.find_all('table')"
   ]
  },
  {
   "cell_type": "code",
   "execution_count": 13,
   "metadata": {
    "tags": []
   },
   "outputs": [
    {
     "data": {
      "text/plain": [
       "bs4.element.ResultSet"
      ]
     },
     "execution_count": 13,
     "metadata": {},
     "output_type": "execute_result"
    }
   ],
   "source": [
    "# test\n",
    "type( html_tables )"
   ]
  },
  {
   "cell_type": "code",
   "execution_count": null,
   "metadata": {},
   "outputs": [],
   "source": []
  },
  {
   "cell_type": "markdown",
   "metadata": {},
   "source": [
    "Starting from the third table is our target table contains the actual launch records.\n"
   ]
  },
  {
   "cell_type": "markdown",
   "metadata": {},
   "source": [
    "3번째 table : 2022 ?"
   ]
  },
  {
   "cell_type": "code",
   "execution_count": null,
   "metadata": {},
   "outputs": [],
   "source": [
    "# 출력 결과가 너무 길어서, 지움."
   ]
  },
  {
   "cell_type": "code",
   "execution_count": null,
   "metadata": {
    "tags": []
   },
   "outputs": [],
   "source": [
    "# Let's print the third table and check its content\n",
    "first_launch_table = html_tables[2]\n",
    "print(first_launch_table)"
   ]
  },
  {
   "cell_type": "code",
   "execution_count": 18,
   "metadata": {
    "tags": []
   },
   "outputs": [
    {
     "data": {
      "text/plain": [
       "bs4.element.Tag"
      ]
     },
     "execution_count": 18,
     "metadata": {},
     "output_type": "execute_result"
    }
   ],
   "source": [
    "# test\n",
    "type( first_launch_table )"
   ]
  },
  {
   "cell_type": "markdown",
   "metadata": {},
   "source": [
    "You should able to see the columns names embedded in the table header elements `<th>` as follows:\n"
   ]
  },
  {
   "cell_type": "markdown",
   "metadata": {},
   "source": [
    "```\n",
    "<tr>\n",
    "<th scope=\"col\">Flight No.\n",
    "</th>\n",
    "<th scope=\"col\">Date and<br/>time (<a href=\"/wiki/Coordinated_Universal_Time\" title=\"Coordinated Universal Time\">UTC</a>)\n",
    "</th>\n",
    "<th scope=\"col\"><a href=\"/wiki/List_of_Falcon_9_first-stage_boosters\" title=\"List of Falcon 9 first-stage boosters\">Version,<br/>Booster</a> <sup class=\"reference\" id=\"cite_ref-booster_11-0\"><a href=\"#cite_note-booster-11\">[b]</a></sup>\n",
    "</th>\n",
    "<th scope=\"col\">Launch site\n",
    "</th>\n",
    "<th scope=\"col\">Payload<sup class=\"reference\" id=\"cite_ref-Dragon_12-0\"><a href=\"#cite_note-Dragon-12\">[c]</a></sup>\n",
    "</th>\n",
    "<th scope=\"col\">Payload mass\n",
    "</th>\n",
    "<th scope=\"col\">Orbit\n",
    "</th>\n",
    "<th scope=\"col\">Customer\n",
    "</th>\n",
    "<th scope=\"col\">Launch<br/>outcome\n",
    "</th>\n",
    "<th scope=\"col\"><a href=\"/wiki/Falcon_9_first-stage_landing_tests\" title=\"Falcon 9 first-stage landing tests\">Booster<br/>landing</a>\n",
    "</th></tr>\n",
    "```\n"
   ]
  },
  {
   "cell_type": "markdown",
   "metadata": {},
   "source": [
    "Next, we just need to iterate through the `<th>` elements and apply the provided `extract_column_from_header()` to extract column name one by one\n"
   ]
  },
  {
   "cell_type": "code",
   "execution_count": 20,
   "metadata": {
    "tags": []
   },
   "outputs": [],
   "source": [
    "column_names = []\n",
    "\n",
    "# Apply find_all() function with `th` element on first_launch_table\n",
    "# Iterate each th element and apply the provided extract_column_from_header() to get a column name\n",
    "# Append the Non-empty column name (`if name is not None and len(name) > 0`) into a list called column_names\n",
    "\n",
    "# first_launch_table의 `th` 요소와 함께 find_all() 함수를 적용합니다.\n",
    "# 각 요소를 반복하고 제공된 extract_column_from_header()를 적용하여 열 이름을 얻습니다.\n",
    "# 비어 있지 않은 열 이름(`이름이 None이 아니고 len(name) > 0인 경우`)을 column_names라는 목록에 추가합니다.\n",
    "\n",
    "column_names = []\n",
    "\n",
    "# 첫 번째 테이블의 모든 th 요소를 찾아서 열 이름을 추출\n",
    "column_headers = first_launch_table.find_all( 'th' )\n",
    "\n",
    "# 각 열 이름을 추출하여 column_names 목록에 추가\n",
    "for header in column_headers:\n",
    "    # th 요소에서 텍스트 추출\n",
    "    name = header.text.strip()\n",
    "    \n",
    "    if name and len(name)>0:\n",
    "        column_names.append( name )"
   ]
  },
  {
   "cell_type": "markdown",
   "metadata": {},
   "source": [
    "Check the extracted column names\n"
   ]
  },
  {
   "cell_type": "code",
   "execution_count": 21,
   "metadata": {
    "tags": []
   },
   "outputs": [
    {
     "name": "stdout",
     "output_type": "stream",
     "text": [
      "['Flight No.', 'Date andtime (UTC)', 'Version,Booster [b]', 'Launch site', 'Payload[c]', 'Payload mass', 'Orbit', 'Customer', 'Launchoutcome', 'Boosterlanding', '1', '2', '3', '4', '5', '6', '7']\n"
     ]
    }
   ],
   "source": [
    "print(column_names)"
   ]
  },
  {
   "cell_type": "markdown",
   "metadata": {},
   "source": [
    "## TASK 3: Create a data frame by parsing the launch HTML tables\n"
   ]
  },
  {
   "cell_type": "markdown",
   "metadata": {},
   "source": [
    "We will create an empty dictionary with keys from the extracted column names in the previous task. Later, this dictionary will be converted into a Pandas dataframe\n"
   ]
  },
  {
   "cell_type": "markdown",
   "metadata": {},
   "source": [
    "이전 작업에서 추출한 열 이름의 키를 사용하여 빈 사전을 생성합니다. 나중에 이 사전은 Pandas 데이터 프레임으로 변환됩니다."
   ]
  },
  {
   "cell_type": "code",
   "execution_count": 84,
   "metadata": {
    "tags": []
   },
   "outputs": [],
   "source": [
    "# 위에서 추출한 컬럼명이 아래와 다른 것이 있어서, 수동으로 하자.\n",
    "column_names_2 = [  'Flight No.', 'Date andtime (UTC)'\n",
    "#                 , 'Version,Booster [b]', 'Launch site', 'Payload[c]', 'Payload mass'\n",
    "                  , 'Version Booster', 'Launch Site', 'Payload', 'Payload Mass'\n",
    "#                 , 'Orbit', 'Customer', 'Launchoutcome', 'Boosterlanding'\n",
    "                  , 'Orbit', 'Customer', 'Launch Outcome', 'Booster Landing'\n",
    "                 ]"
   ]
  },
  {
   "cell_type": "code",
   "execution_count": 90,
   "metadata": {
    "tags": []
   },
   "outputs": [],
   "source": [
    "# 이런 방법도 있군.\n",
    "#launch_dict = dict.fromkeys(column_names)\n",
    "launch_dict = dict.fromkeys(column_names_2)\n",
    "\n",
    "# Remove an irrelvant column\n",
    "# del launch_dict['Date and time ( )']\n",
    "del launch_dict['Date andtime (UTC)']\n",
    "\n",
    "# Let's initial the launch_dict with each value to be an empty list\n",
    "# 스페이스 있네?\n",
    "launch_dict['Flight No.'] = []\n",
    "#launch_dict['Launch site'] = []\n",
    "launch_dict['Launch Site'] = []\n",
    "launch_dict['Payload'] = []\n",
    "#launch_dict['Payload mass'] = []\n",
    "launch_dict['Payload Mass'] = []\n",
    "launch_dict['Orbit'] = []\n",
    "launch_dict['Customer'] = []\n",
    "#launch_dict['Launch outcome'] = []\n",
    "launch_dict['Launch Outcome'] = []\n",
    "# Added some new columns\n",
    "launch_dict['Version Booster']=[]\n",
    "#launch_dict['Booster landing']=[]\n",
    "launch_dict['Booster Landing']=[]\n",
    "launch_dict['Date']=[]\n",
    "launch_dict['Time']=[]\n",
    "\n",
    "# 일관선 없는 대소문자 때문에 Error 나서, 모두 대문자 시작으로 수정 함."
   ]
  },
  {
   "cell_type": "code",
   "execution_count": 91,
   "metadata": {
    "tags": []
   },
   "outputs": [
    {
     "data": {
      "text/plain": [
       "{'Flight No.': [],\n",
       " 'Version Booster': [],\n",
       " 'Launch Site': [],\n",
       " 'Payload': [],\n",
       " 'Payload Mass': [],\n",
       " 'Orbit': [],\n",
       " 'Customer': [],\n",
       " 'Launch Outcome': [],\n",
       " 'Booster Landing': [],\n",
       " 'Date': [],\n",
       " 'Time': []}"
      ]
     },
     "execution_count": 91,
     "metadata": {},
     "output_type": "execute_result"
    }
   ],
   "source": [
    "# test\n",
    "launch_dict"
   ]
  },
  {
   "cell_type": "code",
   "execution_count": 92,
   "metadata": {
    "tags": []
   },
   "outputs": [
    {
     "data": {
      "text/plain": [
       "11"
      ]
     },
     "execution_count": 92,
     "metadata": {},
     "output_type": "execute_result"
    }
   ],
   "source": [
    "# test\n",
    "len( launch_dict )"
   ]
  },
  {
   "cell_type": "code",
   "execution_count": null,
   "metadata": {},
   "outputs": [],
   "source": []
  },
  {
   "cell_type": "markdown",
   "metadata": {},
   "source": [
    "Next, we just need to fill up the `launch_dict` with launch records extracted from table rows.\n"
   ]
  },
  {
   "cell_type": "markdown",
   "metadata": {},
   "source": [
    "Usually, HTML tables in Wiki pages are likely to contain unexpected annotations and other types of noises, such as reference links `B0004.1[8]`, missing values `N/A [e]`, inconsistent formatting, etc.\n"
   ]
  },
  {
   "cell_type": "markdown",
   "metadata": {},
   "source": [
    "To simplify the parsing process, we have provided an incomplete code snippet below to help you to fill up the `launch_dict`. Please complete the following code snippet with TODOs or you can choose to write your own logic to parse all launch tables:\n"
   ]
  },
  {
   "cell_type": "markdown",
   "metadata": {},
   "source": [
    "일반적으로 Wiki 페이지의 HTML 테이블에는 참조 링크 B0004.1[8], 누락된 값 N/A[e], 일관되지 않은 형식 등과 같은 예상치 못한 주석과 기타 유형의 노이즈가 포함될 가능성이 있습니다.\n",
    "\n",
    "구문 분석 프로세스를 단순화하기 위해 launch_dict를 작성하는 데 도움이 되는 불완전한 코드 조각을 아래에 제공했습니다. TODO를 사용하여 다음 코드 조각을 완성하거나 모든 실행 테이블을 구문 분석하는 자체 논리를 작성하도록 선택할 수 있습니다."
   ]
  },
  {
   "cell_type": "code",
   "execution_count": null,
   "metadata": {},
   "outputs": [],
   "source": []
  },
  {
   "cell_type": "code",
   "execution_count": 93,
   "metadata": {
    "tags": []
   },
   "outputs": [],
   "source": [
    "# 디버그 출력 여부 (1:True, 0:False)\n",
    "# debug_tf = 1\n",
    "debug_tf = 0"
   ]
  },
  {
   "cell_type": "code",
   "execution_count": 94,
   "metadata": {
    "tags": []
   },
   "outputs": [
    {
     "name": "stdout",
     "output_type": "stream",
     "text": [
      "Finished.\n"
     ]
    }
   ],
   "source": [
    "extracted_row = 0\n",
    "\n",
    "#Extract each table \n",
    "# 테이블은 \"wikitable plainrowheaders collapsible\" 클래스를 가지고 있어야 합니다.\n",
    "for table_number,table in enumerate(soup.find_all('table',\"wikitable plainrowheaders collapsible\")):\n",
    "   # get table row \n",
    "    for rows in table.find_all(\"tr\"):\n",
    "        #check to see if first table heading is as number corresponding to launch a number \n",
    "        # 각 행에서 첫 번째 열 (th 요소)을 확인하여 해당 열이 \"Flight No.\" (로켓 발사 번호)와 관련된 것인지를 확인\n",
    "        if rows.th:\n",
    "            if rows.th.string:\n",
    "                flight_number=rows.th.string.strip()\n",
    "                flag=flight_number.isdigit()\n",
    "        else:\n",
    "            flag=False\n",
    "        #get table element \n",
    "        row = rows.find_all('td')\n",
    "        #if it is number save cells in a dictonary \n",
    "        if flag:\n",
    "            extracted_row += 1\n",
    "            # Flight Number value\n",
    "            # TODO: Append the flight_number into launch_dict with key `Flight No.`\n",
    "            # TODO: `Flight No.` 키를 사용하여 launch_dict에 flight_number를 추가합니다.\n",
    "            #launch_dict['Flight No.'] = flight_number\n",
    "            launch_dict['Flight No.'].append( flight_number )\n",
    "            #print(flight_number)\n",
    "            if debug_tf == 1:  print('')\n",
    "            if debug_tf == 1:  print('flight_number : ', flight_number)\n",
    "            \n",
    "            # 날짜와 시간을 추출하여 리스트로 반환\n",
    "            datatimelist = date_time(row[0])\n",
    "            \n",
    "            # Date value\n",
    "            # TODO: Append the date into launch_dict with key `Date`\n",
    "            # 반환된 날짜 정보에서 ',' 문자를 제거\n",
    "            date = datatimelist[0].strip(',')\n",
    "            #launch_dict['Date'] = date\n",
    "            launch_dict['Date'].append( date )\n",
    "            #print(date)\n",
    "            if debug_tf == 1:  print('date : ', date)\n",
    "            \n",
    "            # Time value\n",
    "            # TODO: Append the time into launch_dict with key `Time`\n",
    "            time = datatimelist[1]\n",
    "            #launch_dict['Time'] = time\n",
    "            launch_dict['Time'].append( time )\n",
    "            #print(time)\n",
    "            if debug_tf == 1:  print('time : ', time)\n",
    "              \n",
    "            # Booster version\n",
    "            # TODO: Append the bv into launch_dict with key `Version Booster`\n",
    "            bv=booster_version(row[1])\n",
    "            if not(bv):\n",
    "                bv=row[1].a.string\n",
    "            #launch_dict['Version Booster'] = bv\n",
    "            launch_dict['Version Booster'].append( bv )\n",
    "            #print(bv)\n",
    "            if debug_tf == 1:  print('bv : ', bv)\n",
    "            \n",
    "            # Launch Site\n",
    "            # TODO: Append the bv into launch_dict with key `Launch Site`\n",
    "            launch_site = row[2].a.string\n",
    "            #launch_dict['Launch Site'] = launch_site\n",
    "            #launch_dict['Launch Site'].append( launch_site )\n",
    "            launch_dict['Launch Site'].append( launch_site )  # 대소문자 에러!\n",
    "            #print(launch_site)\n",
    "            if debug_tf == 1:  print('launch_site : ', launch_site)\n",
    "            \n",
    "            # Payload\n",
    "            # TODO: Append the payload into launch_dict with key `Payload`\n",
    "            payload = row[3].a.string\n",
    "            #launch_dict['Payload'] = payload\n",
    "            launch_dict['Payload'].append( payload )\n",
    "            #print(payload)\n",
    "            if debug_tf == 1:  print('payload : ', payload)\n",
    "            \n",
    "            # Payload Mass\n",
    "            # TODO: Append the payload_mass into launch_dict with key `Payload mass`\n",
    "            payload_mass = get_mass(row[4])\n",
    "            #launch_dict['Payload mass'] = payload_mass\n",
    "            #launch_dict['Payload mass'].append( payload_mass )\n",
    "            launch_dict['Payload Mass'].append( payload_mass )\n",
    "            #print(payload)\n",
    "            if debug_tf == 1:  print('payload_mass : ', payload_mass)\n",
    "            \n",
    "            # Orbit\n",
    "            # TODO: Append the orbit into launch_dict with key `Orbit`\n",
    "            orbit = row[5].a.string\n",
    "            #launch_dict['Orbit'] = orbit\n",
    "            launch_dict['Orbit'].append( orbit )\n",
    "            #print(orbit)\n",
    "            if debug_tf == 1:  print('orbit : ', orbit)\n",
    "            \n",
    "            \n",
    "            # Customer\n",
    "            # TODO: Append the customer into launch_dict with key `Customer`\n",
    "            #customer = row[6].a.string\n",
    "            #launch_dict['Customer'] = customer\n",
    "            #print(customer)\n",
    "            #if debug_tf == 1:  print('customer : ', customer)\n",
    "            \n",
    "            # 위 코드에서 아래 에러 남\n",
    "            # AttributeError: 'NoneType' object has no attribute 'string'\n",
    "            \n",
    "            # 수정 함.\n",
    "            # if len( row[6] ) > 0:\n",
    "            # if row[6] is not None:\n",
    "            if row[6].a is not None:  # html a 태그 없어서 에러 나는 듯.\n",
    "                if debug_tf == 1:  print('row[6] : ', row[6])\n",
    "                customer = row[6].a.string\n",
    "                #launch_dict['Customer'] = customer\n",
    "                launch_dict['Customer'].append( customer )\n",
    "                if debug_tf == 1:  print('customer : ', customer)\n",
    "            else:\n",
    "                #launch_dict['Customer'] = None            \n",
    "                launch_dict['Customer'].append( None )\n",
    "            \n",
    "            \n",
    "            # Launch outcome\n",
    "            # TODO: Append the launch_outcome into launch_dict with key `Launch outcome`\n",
    "            launch_outcome = list(row[7].strings)[0]\n",
    "            #launch_dict['Launch outcome'] = launch_outcome\n",
    "            #launch_dict['Launch outcome'].append( launch_outcome )\n",
    "            launch_dict['Launch Outcome'].append( launch_outcome )\n",
    "            #print(launch_outcome)\n",
    "            if debug_tf == 1:  print('launch_outcome : ', launch_outcome)\n",
    "            \n",
    "            # Booster landing\n",
    "            # TODO: Append the launch_outcome into launch_dict with key `Booster landing`\n",
    "            booster_landing = landing_status(row[8])\n",
    "            #launch_dict['Booster landing'] = booster_landing\n",
    "            #launch_dict['Booster landing'].append( booster_landing )\n",
    "            launch_dict['Booster Landing'].append( booster_landing )\n",
    "            #print(booster_landing)\n",
    "            if debug_tf == 1:  print('booster_landing : ', booster_landing)\n",
    "            \n",
    "print('Finished.')"
   ]
  },
  {
   "cell_type": "code",
   "execution_count": null,
   "metadata": {},
   "outputs": [],
   "source": []
  },
  {
   "cell_type": "code",
   "execution_count": 97,
   "metadata": {
    "tags": []
   },
   "outputs": [
    {
     "data": {
      "text/plain": [
       "11"
      ]
     },
     "execution_count": 97,
     "metadata": {},
     "output_type": "execute_result"
    }
   ],
   "source": [
    "# test\n",
    "len( launch_dict )"
   ]
  },
  {
   "cell_type": "code",
   "execution_count": null,
   "metadata": {},
   "outputs": [],
   "source": []
  },
  {
   "cell_type": "markdown",
   "metadata": {},
   "source": [
    "G\n",
    "\n",
    "위의 파이썬 코드는 BeautifulSoup을 사용하여 웹 페이지에서 데이터를 추출하고 이를 정리하여 launch 정보를 추출하는 코드입니다. 코드를 세분화하여 설명하겠습니다.\n",
    "\n",
    "1. `for table_number, table in enumerate(soup.find_all('table', \"wikitable plainrowheaders collapsible\")):`: 웹 페이지에서 `<table>` 태그 중에서 클래스가 \"wikitable plainrowheaders collapsible\"인 테이블을 찾아 순회합니다. 이러한 테이블에는 SpaceX의 로켓 발사 정보가 포함되어 있습니다.\n",
    "\n",
    "2. `for rows in table.find_all(\"tr\"):`: 각 테이블에서 행(`<tr>`)을 찾아 순회합니다.\n",
    "\n",
    "3. `if rows.th:`: 각 행에서 첫 번째 열(`<th>`)이 있는지 확인합니다.\n",
    "\n",
    "4. `flight_number=rows.th.string.strip()`: 첫 번째 열(`<th>`)의 내용을 문자열로 가져옵니다. 이것이 로켓 발사 번호인지 확인하기 위해 `.isdigit()` 함수를 사용하여 숫자인지 확인합니다.\n",
    "\n",
    "5. `datatimelist=date_time(row[0])`: 첫 번째 열에서 날짜와 시간 정보를 추출하기 위해 `date_time` 함수를 호출합니다. 이 함수는 날짜와 시간을 추출하여 리스트로 반환합니다.\n",
    "\n",
    "6. `date = datatimelist[0].strip(',')`: 반환된 날짜 정보에서 ',' 문자를 제거하고 `date` 변수에 저장합니다.\n",
    "\n",
    "7. `time = datatimelist[1]`: 반환된 시간 정보를 `time` 변수에 저장합니다.\n",
    "\n",
    "8. `bv=booster_version(row[1])`: 두 번째 열에서 부스터 버전 정보를 추출하기 위해 `booster_version` 함수를 호출합니다. 이 함수는 부스터 버전 정보를 반환하거나 `<a>` 태그로 묶여 있는 경우 해당 링크 텍스트를 반환합니다.\n",
    "\n",
    "9. `launch_site = row[2].a.string`: 세 번째 열에서 발사 사이트 정보를 추출합니다.\n",
    "\n",
    "10. `payload = row[3].a.string`: 네 번째 열에서 페이로드 정보를 추출합니다.\n",
    "\n",
    "11. `payload_mass = get_mass(row[4])`: 다섯 번째 열에서 페이로드 질량 정보를 추출하기 위해 `get_mass` 함수를 호출합니다. 이 함수는 질량 정보를 추출하여 반환합니다.\n",
    "\n",
    "12. `orbit = row[5].a.string`: 여섯 번째 열에서 궤도 정보를 추출합니다.\n",
    "\n",
    "13. `customer = row[6].a.string`: 일곱 번째 열에서 고객 정보를 추출합니다.\n",
    "\n",
    "14. `launch_outcome = list(row[7].strings)[0]`: 여덟 번째 열에서 발사 결과 정보를 추출합니다.\n",
    "\n",
    "15. `booster_landing = landing_status(row[8])`: 아홉 번째 열에서 부스터 착륙 정보를 추출하기 위해 `landing_status` 함수를 호출합니다. 이 함수는 착륙 정보를 반환합니다.\n",
    "\n",
    "16. 주석의 'TODO' 지시문에 따라 각 정보를 `launch_dict`에 추가합니다.\n",
    "\n",
    "이러한 방식으로 각 행에서 필요한 정보를 추출하고 `launch_dict`에 저장하여 정리합니다."
   ]
  },
  {
   "cell_type": "code",
   "execution_count": null,
   "metadata": {},
   "outputs": [],
   "source": []
  },
  {
   "cell_type": "markdown",
   "metadata": {},
   "source": [
    "G\n",
    "\n",
    "아래 코드는 주어진 HTML 표에서 \"Flight No.\" (로켓 발사 번호) 값을 추출하고, 해당 값에서 앞 뒤의 공백을 제거하는 부분입니다.\n",
    "\n",
    "```python\n",
    "flight_number = rows.th.string.strip()\n",
    "```\n",
    "\n",
    "여기에서:\n",
    "\n",
    "- `rows.th`는 현재 표의 열에서 첫 번째 셀 (`<th>` 태그)을 나타냅니다.\n",
    "- `rows.th.string`은 해당 셀의 텍스트 내용을 나타냅니다. 즉, \"Flight No.\" 문자열 또는 해당 로켓 발사 번호입니다.\n",
    "- `strip()` 함수는 문자열에서 앞뒤의 공백을 제거하는 메서드입니다. 따라서 `flight_number` 변수에는 \"Flight No.\" 문자열 또는 실제 로켓 발사 번호가 들어갑니다.\n",
    "\n",
    "이 코드를 통해 현재 행의 첫 번째 셀에서 로켓 발사 번호를 추출하고 이를 `flight_number` 변수에 저장합니다. 이후에 이 값을 사용하여 `launch_dict`에 로켓 발사 번호를 추가하는 데 활용됩니다."
   ]
  },
  {
   "cell_type": "code",
   "execution_count": null,
   "metadata": {},
   "outputs": [],
   "source": []
  },
  {
   "cell_type": "code",
   "execution_count": null,
   "metadata": {},
   "outputs": [],
   "source": []
  },
  {
   "cell_type": "markdown",
   "metadata": {},
   "source": [
    "After you have fill in the parsed launch record values into `launch_dict`, you can create a dataframe from it.\n"
   ]
  },
  {
   "cell_type": "code",
   "execution_count": 98,
   "metadata": {
    "tags": []
   },
   "outputs": [
    {
     "data": {
      "text/html": [
       "<div>\n",
       "<style scoped>\n",
       "    .dataframe tbody tr th:only-of-type {\n",
       "        vertical-align: middle;\n",
       "    }\n",
       "\n",
       "    .dataframe tbody tr th {\n",
       "        vertical-align: top;\n",
       "    }\n",
       "\n",
       "    .dataframe thead th {\n",
       "        text-align: right;\n",
       "    }\n",
       "</style>\n",
       "<table border=\"1\" class=\"dataframe\">\n",
       "  <thead>\n",
       "    <tr style=\"text-align: right;\">\n",
       "      <th></th>\n",
       "      <th>Flight No.</th>\n",
       "      <th>Version Booster</th>\n",
       "      <th>Launch Site</th>\n",
       "      <th>Payload</th>\n",
       "      <th>Payload Mass</th>\n",
       "      <th>Orbit</th>\n",
       "      <th>Customer</th>\n",
       "      <th>Launch Outcome</th>\n",
       "      <th>Booster Landing</th>\n",
       "      <th>Date</th>\n",
       "      <th>Time</th>\n",
       "    </tr>\n",
       "  </thead>\n",
       "  <tbody>\n",
       "    <tr>\n",
       "      <th>0</th>\n",
       "      <td>1</td>\n",
       "      <td>F9 v1.0B0003.1</td>\n",
       "      <td>CCAFS</td>\n",
       "      <td>Dragon Spacecraft Qualification Unit</td>\n",
       "      <td>0</td>\n",
       "      <td>LEO</td>\n",
       "      <td>SpaceX</td>\n",
       "      <td>Success\\n</td>\n",
       "      <td>Failure</td>\n",
       "      <td>4 June 2010</td>\n",
       "      <td>18:45</td>\n",
       "    </tr>\n",
       "    <tr>\n",
       "      <th>1</th>\n",
       "      <td>2</td>\n",
       "      <td>F9 v1.0B0004.1</td>\n",
       "      <td>CCAFS</td>\n",
       "      <td>Dragon</td>\n",
       "      <td>0</td>\n",
       "      <td>LEO</td>\n",
       "      <td>NASA</td>\n",
       "      <td>Success</td>\n",
       "      <td>Failure</td>\n",
       "      <td>8 December 2010</td>\n",
       "      <td>15:43</td>\n",
       "    </tr>\n",
       "    <tr>\n",
       "      <th>2</th>\n",
       "      <td>3</td>\n",
       "      <td>F9 v1.0B0005.1</td>\n",
       "      <td>CCAFS</td>\n",
       "      <td>Dragon</td>\n",
       "      <td>525 kg</td>\n",
       "      <td>LEO</td>\n",
       "      <td>NASA</td>\n",
       "      <td>Success</td>\n",
       "      <td>Not attempted\\n</td>\n",
       "      <td>22 May 2012</td>\n",
       "      <td>07:44</td>\n",
       "    </tr>\n",
       "  </tbody>\n",
       "</table>\n",
       "</div>"
      ],
      "text/plain": [
       "  Flight No. Version Booster Launch Site  \\\n",
       "0          1  F9 v1.0B0003.1       CCAFS   \n",
       "1          2  F9 v1.0B0004.1       CCAFS   \n",
       "2          3  F9 v1.0B0005.1       CCAFS   \n",
       "\n",
       "                                Payload Payload Mass Orbit Customer  \\\n",
       "0  Dragon Spacecraft Qualification Unit            0   LEO   SpaceX   \n",
       "1                                Dragon            0   LEO     NASA   \n",
       "2                                Dragon       525 kg   LEO     NASA   \n",
       "\n",
       "  Launch Outcome  Booster Landing             Date   Time  \n",
       "0      Success\\n          Failure      4 June 2010  18:45  \n",
       "1        Success          Failure  8 December 2010  15:43  \n",
       "2        Success  Not attempted\\n      22 May 2012  07:44  "
      ]
     },
     "execution_count": 98,
     "metadata": {},
     "output_type": "execute_result"
    }
   ],
   "source": [
    "df = pd.DataFrame({ key:pd.Series(value)  for key, value in launch_dict.items() })\n",
    "\n",
    "df.head(3)"
   ]
  },
  {
   "cell_type": "markdown",
   "metadata": {},
   "source": [
    "We can now export it to a <b>CSV</b> for the next section, but to make the answers consistent and in case you have difficulties finishing this lab. \n",
    "\n",
    "Following labs will be using a provided dataset to make each lab independent. \n"
   ]
  },
  {
   "cell_type": "markdown",
   "metadata": {},
   "source": [
    "<code>df.to_csv('spacex_web_scraped.csv', index=False)</code>"
   ]
  },
  {
   "cell_type": "code",
   "execution_count": 99,
   "metadata": {
    "tags": []
   },
   "outputs": [],
   "source": [
    "df.to_csv('dataset_part_2(web_scraped).csv', index=False)"
   ]
  },
  {
   "cell_type": "code",
   "execution_count": null,
   "metadata": {},
   "outputs": [],
   "source": []
  },
  {
   "cell_type": "markdown",
   "metadata": {},
   "source": [
    "## Authors\n"
   ]
  },
  {
   "cell_type": "markdown",
   "metadata": {},
   "source": [
    "<a href=\"https://www.linkedin.com/in/yan-luo-96288783/\">Yan Luo</a>\n"
   ]
  },
  {
   "cell_type": "markdown",
   "metadata": {},
   "source": [
    "<a href=\"https://www.linkedin.com/in/nayefaboutayoun/\">Nayef Abou Tayoun</a>\n"
   ]
  },
  {
   "cell_type": "markdown",
   "metadata": {},
   "source": [
    "## Change Log\n"
   ]
  },
  {
   "cell_type": "markdown",
   "metadata": {},
   "source": [
    "| Date (YYYY-MM-DD) | Version | Changed By | Change Description      |\n",
    "| ----------------- | ------- | ---------- | ----------------------- |\n",
    "| 2021-06-09        | 1.0     | Yan Luo    | Tasks updates           |\n",
    "| 2020-11-10        | 1.0     | Nayef      | Created the initial version |\n"
   ]
  },
  {
   "cell_type": "markdown",
   "metadata": {},
   "source": [
    "Copyright © 2021 IBM Corporation. All rights reserved.\n"
   ]
  }
 ],
 "metadata": {
  "kernelspec": {
   "display_name": "Python 3 (ipykernel)",
   "language": "python",
   "name": "python3"
  },
  "language_info": {
   "codemirror_mode": {
    "name": "ipython",
    "version": 3
   },
   "file_extension": ".py",
   "mimetype": "text/x-python",
   "name": "python",
   "nbconvert_exporter": "python",
   "pygments_lexer": "ipython3",
   "version": "3.11.4"
  }
 },
 "nbformat": 4,
 "nbformat_minor": 4
}
